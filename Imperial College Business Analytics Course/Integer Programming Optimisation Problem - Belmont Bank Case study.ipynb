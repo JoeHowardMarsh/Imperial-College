{
 "cells": [
  {
   "cell_type": "code",
   "execution_count": 1,
   "id": "0127f5d3",
   "metadata": {},
   "outputs": [],
   "source": [
    "# First required to download 'pulp' module using pip (package management system for python)"
   ]
  },
  {
   "cell_type": "code",
   "execution_count": 2,
   "id": "7b2af58b",
   "metadata": {},
   "outputs": [],
   "source": [
    "from pulp import *\n",
    "# defining the town names\n",
    "names = ['Arlington', 'Belmont', 'Cambridge', 'Lexington', 'Somerville', 'Winchester']\n",
    "\n",
    "# defining the distance matrix - 2d array with the distances between all locations\n",
    "distances = [[0, 5, 10, 15, 20, 15],\n",
    "             [5, 0, 8, 10, 15, 12],\n",
    "             [10, 8, 0, 15, 20, 10],\n",
    "             [15, 10, 15, 0, 10, 12],\n",
    "             [20, 15, 20, 10, 0, 12],\n",
    "             [15, 12, 10, 12, 12, 0]]"
   ]
  },
  {
   "cell_type": "code",
   "execution_count": 5,
   "id": "3cafecca",
   "metadata": {},
   "outputs": [],
   "source": [
    "# define the decision variable for each town (binary decisions)\n",
    "# for each x (decision vector) we find a linear programming variable (binary)\n",
    "\n",
    "x = []\n",
    "for n in names:\n",
    "    x += [LpVariable (n, cat = 'Binary')]\n",
    "\n",
    "# define the objective function (the sum of all the decision variables)\n",
    "# defining the problem, and instructing it to be a minimization problem\n",
    "\n",
    "Belmont_model = pulp.LpProblem(\"Belmont_Model\", LpMinimize)\n",
    "Belmont_model += sum(x)\n",
    "\n",
    "# defining the constraints using a nested for loop\n",
    "# one constraint for each location, add up the decision variables for each location\n",
    "# who's town centres have a maximum distance of 10m drive from the current specific location being considered\n",
    "\n",
    "for i in range(len(names)):\n",
    "    curr_expr = 0\n",
    "    for j in range(len(names)):\n",
    "        if distances[i][j] <= 10:\n",
    "            curr_expr += x[j]\n",
    "    Belmont_model += curr_expr >= 1"
   ]
  },
  {
   "cell_type": "code",
   "execution_count": 6,
   "id": "f7bd518f",
   "metadata": {},
   "outputs": [
    {
     "data": {
      "text/plain": [
       "1"
      ]
     },
     "execution_count": 6,
     "metadata": {},
     "output_type": "execute_result"
    }
   ],
   "source": [
    "# solving the problem\n",
    "\n",
    "Belmont_model.solve()"
   ]
  },
  {
   "cell_type": "code",
   "execution_count": 10,
   "id": "f8972ee9",
   "metadata": {},
   "outputs": [
    {
     "name": "stdout",
     "output_type": "stream",
     "text": [
      "Arlington:\t0.0\n",
      "Belmont:\t0.0\n",
      "Cambridge:\t1.0\n",
      "Lexington:\t0.0\n",
      "Somerville:\t1.0\n",
      "Winchester:\t0.0\n"
     ]
    }
   ],
   "source": [
    "# printing the results (for each decision varible, it prints the optimal values)\n",
    "\n",
    "for i in range(len(names)):\n",
    "    print(\"{}:\\t{}\".format(names[i], x[i].value()))"
   ]
  },
  {
   "cell_type": "markdown",
   "id": "67482dab",
   "metadata": {},
   "source": [
    "### Why did I use python for this?\n",
    "### Python can integrate the optimisation model well into a larger process of analysing"
   ]
  }
 ],
 "metadata": {
  "kernelspec": {
   "display_name": "Python 3",
   "language": "python",
   "name": "python3"
  },
  "language_info": {
   "codemirror_mode": {
    "name": "ipython",
    "version": 3
   },
   "file_extension": ".py",
   "mimetype": "text/x-python",
   "name": "python",
   "nbconvert_exporter": "python",
   "pygments_lexer": "ipython3",
   "version": "3.8.8"
  }
 },
 "nbformat": 4,
 "nbformat_minor": 5
}

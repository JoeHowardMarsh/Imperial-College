{
 "cells": [
  {
   "cell_type": "code",
   "execution_count": 4,
   "id": "bdf3fb1c",
   "metadata": {},
   "outputs": [],
   "source": [
    "import scipy.stats as st\n",
    "import statsmodels.datasets\n",
    "import matplotlib.pyplot as plt\n",
    "import numpy as np\n",
    "%matplotlib inline"
   ]
  },
  {
   "cell_type": "code",
   "execution_count": 5,
   "id": "309525c1",
   "metadata": {},
   "outputs": [
    {
     "data": {
      "text/html": [
       "<div>\n",
       "<style scoped>\n",
       "    .dataframe tbody tr th:only-of-type {\n",
       "        vertical-align: middle;\n",
       "    }\n",
       "\n",
       "    .dataframe tbody tr th {\n",
       "        vertical-align: top;\n",
       "    }\n",
       "\n",
       "    .dataframe thead th {\n",
       "        text-align: right;\n",
       "    }\n",
       "</style>\n",
       "<table border=\"1\" class=\"dataframe\">\n",
       "  <thead>\n",
       "    <tr style=\"text-align: right;\">\n",
       "      <th></th>\n",
       "      <th>cancer</th>\n",
       "      <th>population</th>\n",
       "    </tr>\n",
       "  </thead>\n",
       "  <tbody>\n",
       "    <tr>\n",
       "      <th>0</th>\n",
       "      <td>1.0</td>\n",
       "      <td>445.0</td>\n",
       "    </tr>\n",
       "    <tr>\n",
       "      <th>1</th>\n",
       "      <td>0.0</td>\n",
       "      <td>559.0</td>\n",
       "    </tr>\n",
       "    <tr>\n",
       "      <th>2</th>\n",
       "      <td>3.0</td>\n",
       "      <td>677.0</td>\n",
       "    </tr>\n",
       "    <tr>\n",
       "      <th>3</th>\n",
       "      <td>4.0</td>\n",
       "      <td>681.0</td>\n",
       "    </tr>\n",
       "    <tr>\n",
       "      <th>4</th>\n",
       "      <td>3.0</td>\n",
       "      <td>746.0</td>\n",
       "    </tr>\n",
       "    <tr>\n",
       "      <th>5</th>\n",
       "      <td>4.0</td>\n",
       "      <td>869.0</td>\n",
       "    </tr>\n",
       "    <tr>\n",
       "      <th>6</th>\n",
       "      <td>1.0</td>\n",
       "      <td>950.0</td>\n",
       "    </tr>\n",
       "    <tr>\n",
       "      <th>7</th>\n",
       "      <td>5.0</td>\n",
       "      <td>976.0</td>\n",
       "    </tr>\n",
       "    <tr>\n",
       "      <th>8</th>\n",
       "      <td>5.0</td>\n",
       "      <td>1096.0</td>\n",
       "    </tr>\n",
       "    <tr>\n",
       "      <th>9</th>\n",
       "      <td>5.0</td>\n",
       "      <td>1098.0</td>\n",
       "    </tr>\n",
       "    <tr>\n",
       "      <th>10</th>\n",
       "      <td>5.0</td>\n",
       "      <td>1114.0</td>\n",
       "    </tr>\n",
       "    <tr>\n",
       "      <th>11</th>\n",
       "      <td>7.0</td>\n",
       "      <td>1125.0</td>\n",
       "    </tr>\n",
       "    <tr>\n",
       "      <th>12</th>\n",
       "      <td>5.0</td>\n",
       "      <td>1236.0</td>\n",
       "    </tr>\n",
       "    <tr>\n",
       "      <th>13</th>\n",
       "      <td>6.0</td>\n",
       "      <td>1285.0</td>\n",
       "    </tr>\n",
       "    <tr>\n",
       "      <th>14</th>\n",
       "      <td>3.0</td>\n",
       "      <td>1291.0</td>\n",
       "    </tr>\n",
       "    <tr>\n",
       "      <th>15</th>\n",
       "      <td>3.0</td>\n",
       "      <td>1318.0</td>\n",
       "    </tr>\n",
       "    <tr>\n",
       "      <th>16</th>\n",
       "      <td>2.0</td>\n",
       "      <td>1323.0</td>\n",
       "    </tr>\n",
       "    <tr>\n",
       "      <th>17</th>\n",
       "      <td>8.0</td>\n",
       "      <td>1327.0</td>\n",
       "    </tr>\n",
       "    <tr>\n",
       "      <th>18</th>\n",
       "      <td>9.0</td>\n",
       "      <td>1438.0</td>\n",
       "    </tr>\n",
       "    <tr>\n",
       "      <th>19</th>\n",
       "      <td>7.0</td>\n",
       "      <td>1479.0</td>\n",
       "    </tr>\n",
       "  </tbody>\n",
       "</table>\n",
       "</div>"
      ],
      "text/plain": [
       "    cancer  population\n",
       "0      1.0       445.0\n",
       "1      0.0       559.0\n",
       "2      3.0       677.0\n",
       "3      4.0       681.0\n",
       "4      3.0       746.0\n",
       "5      4.0       869.0\n",
       "6      1.0       950.0\n",
       "7      5.0       976.0\n",
       "8      5.0      1096.0\n",
       "9      5.0      1098.0\n",
       "10     5.0      1114.0\n",
       "11     7.0      1125.0\n",
       "12     5.0      1236.0\n",
       "13     6.0      1285.0\n",
       "14     3.0      1291.0\n",
       "15     3.0      1318.0\n",
       "16     2.0      1323.0\n",
       "17     8.0      1327.0\n",
       "18     9.0      1438.0\n",
       "19     7.0      1479.0"
      ]
     },
     "execution_count": 5,
     "metadata": {},
     "output_type": "execute_result"
    }
   ],
   "source": [
    "# https://www.statsmodels.org/devel/examples/index.html\n",
    "\n",
    "dataf = statsmodels.datasets.cancer.load_pandas().data\n",
    "dataf.head(20)"
   ]
  },
  {
   "cell_type": "code",
   "execution_count": 6,
   "id": "62c8e5d6",
   "metadata": {},
   "outputs": [
    {
     "name": "stdout",
     "output_type": "stream",
     "text": [
      "::\n",
      "\n",
      "    Number of observations: 301\n",
      "    Number of variables: 2\n",
      "    Variable name definitions:\n",
      "\n",
      "        cancer - The number of breast cancer observances\n",
      "        population - The population of the county\n",
      "\n",
      "\n"
     ]
    }
   ],
   "source": [
    "print(statsmodels.datasets.cancer.NOTE)\n",
    "# meta data and definition of variables"
   ]
  },
  {
   "cell_type": "code",
   "execution_count": 7,
   "id": "73616bda",
   "metadata": {},
   "outputs": [
    {
     "data": {
      "text/html": [
       "<div>\n",
       "<style scoped>\n",
       "    .dataframe tbody tr th:only-of-type {\n",
       "        vertical-align: middle;\n",
       "    }\n",
       "\n",
       "    .dataframe tbody tr th {\n",
       "        vertical-align: top;\n",
       "    }\n",
       "\n",
       "    .dataframe thead th {\n",
       "        text-align: right;\n",
       "    }\n",
       "</style>\n",
       "<table border=\"1\" class=\"dataframe\">\n",
       "  <thead>\n",
       "    <tr style=\"text-align: right;\">\n",
       "      <th></th>\n",
       "      <th>cancer</th>\n",
       "      <th>population</th>\n",
       "    </tr>\n",
       "  </thead>\n",
       "  <tbody>\n",
       "    <tr>\n",
       "      <th>0</th>\n",
       "      <td>1.0</td>\n",
       "      <td>445.0</td>\n",
       "    </tr>\n",
       "    <tr>\n",
       "      <th>1</th>\n",
       "      <td>0.0</td>\n",
       "      <td>559.0</td>\n",
       "    </tr>\n",
       "    <tr>\n",
       "      <th>2</th>\n",
       "      <td>3.0</td>\n",
       "      <td>677.0</td>\n",
       "    </tr>\n",
       "    <tr>\n",
       "      <th>3</th>\n",
       "      <td>4.0</td>\n",
       "      <td>681.0</td>\n",
       "    </tr>\n",
       "    <tr>\n",
       "      <th>4</th>\n",
       "      <td>3.0</td>\n",
       "      <td>746.0</td>\n",
       "    </tr>\n",
       "  </tbody>\n",
       "</table>\n",
       "</div>"
      ],
      "text/plain": [
       "   cancer  population\n",
       "0     1.0       445.0\n",
       "1     0.0       559.0\n",
       "2     3.0       677.0\n",
       "3     4.0       681.0\n",
       "4     3.0       746.0"
      ]
     },
     "execution_count": 7,
     "metadata": {},
     "output_type": "execute_result"
    }
   ],
   "source": [
    "dataf.head()"
   ]
  },
  {
   "cell_type": "code",
   "execution_count": 8,
   "id": "4116ad24",
   "metadata": {},
   "outputs": [
    {
     "data": {
      "text/plain": [
       "0        1.0\n",
       "1        0.0\n",
       "2        3.0\n",
       "3        4.0\n",
       "4        3.0\n",
       "       ...  \n",
       "296    250.0\n",
       "297    267.0\n",
       "298    244.0\n",
       "299    248.0\n",
       "300    360.0\n",
       "Name: cancer, Length: 301, dtype: float64"
      ]
     },
     "execution_count": 8,
     "metadata": {},
     "output_type": "execute_result"
    }
   ],
   "source": [
    "# getting the data into a variable called 'cancer'\n",
    "\n",
    "cancer = dataf.cancer\n",
    "type(cancer)\n",
    "cancer"
   ]
  },
  {
   "cell_type": "code",
   "execution_count": 10,
   "id": "8352177c",
   "metadata": {},
   "outputs": [
    {
     "data": {
      "text/plain": [
       "Text(0, 0.5, 'Cancers')"
      ]
     },
     "execution_count": 10,
     "metadata": {},
     "output_type": "execute_result"
    },
    {
     "data": {
      "image/png": "[encoded data removed]",
      "text/plain": [
       "<Figure size 432x288 with 1 Axes>"
      ]
     },
     "metadata": {
      "needs_background": "light"
     },
     "output_type": "display_data"
    }
   ],
   "source": [
    "# visualising the data, sorting the number of cases into ascending order\n",
    "# we can see that there are few observations with high cancer rates and many observations with few cancer rates\n",
    "\n",
    "plt.plot(sorted(cancer)[::-1])\n",
    "plt.xlabel('Observation')\n",
    "plt.ylabel('Cancers')"
   ]
  },
  {
   "cell_type": "code",
   "execution_count": 12,
   "id": "f6272025",
   "metadata": {},
   "outputs": [
    {
     "data": {
      "text/plain": [
       "Text(0, 0.5, 'Frequency of Observations')"
      ]
     },
     "execution_count": 12,
     "metadata": {},
     "output_type": "execute_result"
    },
    {
     "data": {
      "image/png": "[encoded data removed]",
      "text/plain": [
       "<Figure size 432x288 with 1 Axes>"
      ]
     },
     "metadata": {
      "needs_background": "light"
     },
     "output_type": "display_data"
    }
   ],
   "source": [
    "# plotting the data as a histogram (sorting the data into bins of discrete intervals)\n",
    "plt.hist(dataf['cancer'], bins = 20);\n",
    "plt.xlabel('Cancer Cases')\n",
    "plt.ylabel('Frequency of Observations')"
   ]
  },
  {
   "cell_type": "code",
   "execution_count": 15,
   "id": "831ec4b7",
   "metadata": {},
   "outputs": [],
   "source": [
    "# looks like exponential decay. An exponential function's decay is government by the rate parameter (λ)\n",
    "# The maximum likelihood algorthim tries to estimate the value of λ that maximises the probability of observing data in an\n",
    "# eponential data distribution\n",
    "\n",
    "# we know that the rate of decay parameter is related to the inverse of the mean\n",
    "# C_mean (number of days of survival) is an exponential random variable with the parameter λ,\n",
    "# and the observations ci are sampled from this distribution. Let the sample mean be:\n",
    "# C_mean = 1/n * Σci\n",
    "\n",
    "C_mean = cancer.mean()\n",
    "lambda_param = 1 / C_mean"
   ]
  },
  {
   "cell_type": "code",
   "execution_count": 16,
   "id": "514a5c0d",
   "metadata": {},
   "outputs": [],
   "source": [
    "# now lets compare the exponential distribution to the actual data.\n",
    "\n",
    "# first we need to scale the exponential function\n",
    "C_max = cancer.max() # maximum number of cancer cases in any histogram bin.\n",
    "cancer_cases = np.linspace(0., C_max, 301)"
   ]
  },
  {
   "cell_type": "code",
   "execution_count": 17,
   "id": "a0139766",
   "metadata": {},
   "outputs": [],
   "source": [
    "# now find the Probability Density Function of this distribution by passing the observations\n",
    "# then passing it to the scale of the inverse of the lambda parameter"
   ]
  },
  {
   "cell_type": "code",
   "execution_count": 19,
   "id": "bcde1d87",
   "metadata": {},
   "outputs": [],
   "source": [
    "expo_dist = st.expon.pdf(cancer_cases, scale=1. / lambda_param)"
   ]
  },
  {
   "cell_type": "code",
   "execution_count": 21,
   "id": "857338d6",
   "metadata": {},
   "outputs": [
    {
     "data": {
      "text/plain": [
       "Text(0, 0.5, 'Frequency of Observations')"
      ]
     },
     "execution_count": 21,
     "metadata": {},
     "output_type": "execute_result"
    },
    {
     "data": {
      "image/png": "[encoded data removed]",
      "text/plain": [
       "<Figure size 432x288 with 1 Axes>"
      ]
     },
     "metadata": {
      "needs_background": "light"
     },
     "output_type": "display_data"
    }
   ],
   "source": [
    "# plotting the 2 graphs together making a duel axis chart\n",
    "\n",
    "fig, ax = plt.subplots(1, 1, figsize=(6, 4)) # allowing us to plot graphs over each other\n",
    "ax.hist(cancer, bins = 30) # plots the histogram\n",
    "ax.plot(cancer_cases, expo_dist * len(cancer) * C_max / 30, '-y', lw = 5) # '-y' = yellow, 'lw' = line width\n",
    "ax.set_xlabel('Cancer Cases')\n",
    "ax.set_ylabel('Frequency of Observations')"
   ]
  },
  {
   "cell_type": "code",
   "execution_count": 23,
   "id": "039bf082",
   "metadata": {},
   "outputs": [
    {
     "data": {
      "text/plain": [
       "(0.0, 39.857142857142854)"
      ]
     },
     "execution_count": 23,
     "metadata": {},
     "output_type": "execute_result"
    }
   ],
   "source": [
    "# it looks like a good fit, but we need a measure of how good the estimation was.\n",
    "# to do this we can use a different SciPy method that calculates the best exponential fit\n",
    "\n",
    "expo_dist = st.expon # getting statsmodel library (st) to provide an exponential curve\n",
    "arguments = expo_dist.fit(cancer) # fit our cancer data to that curve to see how good a fit it is\n",
    "arguments"
   ]
  },
  {
   "cell_type": "code",
   "execution_count": 25,
   "id": "a8ae63d4",
   "metadata": {},
   "outputs": [
    {
     "data": {
      "text/plain": [
       "KstestResult(statistic=0.08878213963828058, pvalue=0.016307682030042146)"
      ]
     },
     "execution_count": 25,
     "metadata": {},
     "output_type": "execute_result"
    }
   ],
   "source": [
    "# with these arguments we can pass them to the Kolmogorov-Smirnov test. This will tell us how\n",
    "# well our chosen distribution type (exponential in this case) fits the actual data\n",
    "\n",
    "st.kstest(cancer, expo_dist.cdf, arguments)"
   ]
  },
  {
   "cell_type": "code",
   "execution_count": 26,
   "id": "1d7a7b22",
   "metadata": {},
   "outputs": [],
   "source": [
    "# when using the KS test, we usually set up a null hypothesis that states that the fitted distribution is a good fit\n",
    "# but here we can see that the p-value is sub 0.05 (5%) and therefore we must reject the null hypothesis\n",
    "# the exponential distribution is not a good fit for our data even though it looks as if it is from the visualisations"
   ]
  },
  {
   "cell_type": "code",
   "execution_count": 27,
   "id": "62e81a42",
   "metadata": {},
   "outputs": [
    {
     "data": {
      "text/plain": [
       "KstestResult(statistic=0.0490929303676384, pvalue=0.44850612100977694)"
      ]
     },
     "execution_count": 27,
     "metadata": {},
     "output_type": "execute_result"
    }
   ],
   "source": [
    "# Now we know that the distribution is not exponential\n",
    "# Another type of distribution that is used in calculating lifetime is called the 'Birnbaum-Sanders distribution'\n",
    "fLife_dist = st.fatiguelife\n",
    "arg = fLife_dist.fit(cancer)\n",
    "st.kstest(cancer, fLife_dist.cdf, arg)"
   ]
  },
  {
   "cell_type": "code",
   "execution_count": 30,
   "id": "253778e6",
   "metadata": {},
   "outputs": [
    {
     "data": {
      "text/plain": [
       "Text(0, 0.5, 'Observations')"
      ]
     },
     "execution_count": 30,
     "metadata": {},
     "output_type": "execute_result"
    },
    {
     "data": {
      "image/png": "[encoded data removed]",
      "text/plain": [
       "<Figure size 864x504 with 1 Axes>"
      ]
     },
     "metadata": {
      "needs_background": "light"
     },
     "output_type": "display_data"
    }
   ],
   "source": [
    "# we can see the P value here is above 0.05 (5%) so we can accept the null hypothesis that this distribution\n",
    "# (Birnbaum-Sanders distribution) is a good fit for our data.\n",
    "# let's visualise it too\n",
    "fatLife_dist = fLife_dist.pdf(cancer_cases, *arg)\n",
    "\n",
    "fig, ax = plt.subplots(1, 1, figsize=(12, 7))\n",
    "ax.hist(cancer, bins = 50)\n",
    "ax.plot(cancer_cases, fatLife_dist * len(cancer) * C_max / 50, '-r', lw = 5, label = 'FLife')\n",
    "ax.set_xlabel('Cancer Cases')\n",
    "ax.set_ylabel('Observations')"
   ]
  }
 ],
 "metadata": {
  "kernelspec": {
   "display_name": "Python 3",
   "language": "python",
   "name": "python3"
  },
  "language_info": {
   "codemirror_mode": {
    "name": "ipython",
    "version": 3
   },
   "file_extension": ".py",
   "mimetype": "text/x-python",
   "name": "python",
   "nbconvert_exporter": "python",
   "pygments_lexer": "ipython3",
   "version": "3.8.8"
  }
 },
 "nbformat": 4,
 "nbformat_minor": 5
}

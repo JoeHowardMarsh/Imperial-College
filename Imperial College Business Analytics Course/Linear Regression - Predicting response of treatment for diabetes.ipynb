{
 "cells": [
  {
   "cell_type": "markdown",
   "id": "498037f6",
   "metadata": {},
   "source": [
    "# Linear Regression - Diabetes dataset in SKlearn"
   ]
  },
  {
   "cell_type": "markdown",
   "id": "c8e492ed",
   "metadata": {},
   "source": [
    "The output response is a measure of disease progression one year after baseline measurements were taken. Then calculate the regression coefficients, the mean square error and the coefficient of determination. After this is done, the data will be standardized for metric accuracy."
   ]
  },
  {
   "cell_type": "markdown",
   "id": "095a393a",
   "metadata": {},
   "source": [
    "I will try to determine the best fit that describes the relationship of the input features with the output response."
   ]
  },
  {
   "cell_type": "code",
   "execution_count": 1,
   "id": "81d80f39",
   "metadata": {},
   "outputs": [
    {
     "data": {
      "text/html": [
       "<div>\n",
       "<style scoped>\n",
       "    .dataframe tbody tr th:only-of-type {\n",
       "        vertical-align: middle;\n",
       "    }\n",
       "\n",
       "    .dataframe tbody tr th {\n",
       "        vertical-align: top;\n",
       "    }\n",
       "\n",
       "    .dataframe thead th {\n",
       "        text-align: right;\n",
       "    }\n",
       "</style>\n",
       "<table border=\"1\" class=\"dataframe\">\n",
       "  <thead>\n",
       "    <tr style=\"text-align: right;\">\n",
       "      <th></th>\n",
       "      <th>age</th>\n",
       "      <th>sex</th>\n",
       "      <th>bmi</th>\n",
       "      <th>bp</th>\n",
       "      <th>s1</th>\n",
       "      <th>s2</th>\n",
       "      <th>s3</th>\n",
       "      <th>s4</th>\n",
       "      <th>s5</th>\n",
       "      <th>s6</th>\n",
       "      <th>response</th>\n",
       "    </tr>\n",
       "  </thead>\n",
       "  <tbody>\n",
       "    <tr>\n",
       "      <th>0</th>\n",
       "      <td>0.038076</td>\n",
       "      <td>0.050680</td>\n",
       "      <td>0.061696</td>\n",
       "      <td>0.021872</td>\n",
       "      <td>-0.044223</td>\n",
       "      <td>-0.034821</td>\n",
       "      <td>-0.043401</td>\n",
       "      <td>-0.002592</td>\n",
       "      <td>0.019908</td>\n",
       "      <td>-0.017646</td>\n",
       "      <td>151.0</td>\n",
       "    </tr>\n",
       "    <tr>\n",
       "      <th>1</th>\n",
       "      <td>-0.001882</td>\n",
       "      <td>-0.044642</td>\n",
       "      <td>-0.051474</td>\n",
       "      <td>-0.026328</td>\n",
       "      <td>-0.008449</td>\n",
       "      <td>-0.019163</td>\n",
       "      <td>0.074412</td>\n",
       "      <td>-0.039493</td>\n",
       "      <td>-0.068330</td>\n",
       "      <td>-0.092204</td>\n",
       "      <td>75.0</td>\n",
       "    </tr>\n",
       "    <tr>\n",
       "      <th>2</th>\n",
       "      <td>0.085299</td>\n",
       "      <td>0.050680</td>\n",
       "      <td>0.044451</td>\n",
       "      <td>-0.005671</td>\n",
       "      <td>-0.045599</td>\n",
       "      <td>-0.034194</td>\n",
       "      <td>-0.032356</td>\n",
       "      <td>-0.002592</td>\n",
       "      <td>0.002864</td>\n",
       "      <td>-0.025930</td>\n",
       "      <td>141.0</td>\n",
       "    </tr>\n",
       "    <tr>\n",
       "      <th>3</th>\n",
       "      <td>-0.089063</td>\n",
       "      <td>-0.044642</td>\n",
       "      <td>-0.011595</td>\n",
       "      <td>-0.036656</td>\n",
       "      <td>0.012191</td>\n",
       "      <td>0.024991</td>\n",
       "      <td>-0.036038</td>\n",
       "      <td>0.034309</td>\n",
       "      <td>0.022692</td>\n",
       "      <td>-0.009362</td>\n",
       "      <td>206.0</td>\n",
       "    </tr>\n",
       "    <tr>\n",
       "      <th>4</th>\n",
       "      <td>0.005383</td>\n",
       "      <td>-0.044642</td>\n",
       "      <td>-0.036385</td>\n",
       "      <td>0.021872</td>\n",
       "      <td>0.003935</td>\n",
       "      <td>0.015596</td>\n",
       "      <td>0.008142</td>\n",
       "      <td>-0.002592</td>\n",
       "      <td>-0.031991</td>\n",
       "      <td>-0.046641</td>\n",
       "      <td>135.0</td>\n",
       "    </tr>\n",
       "    <tr>\n",
       "      <th>5</th>\n",
       "      <td>-0.092695</td>\n",
       "      <td>-0.044642</td>\n",
       "      <td>-0.040696</td>\n",
       "      <td>-0.019442</td>\n",
       "      <td>-0.068991</td>\n",
       "      <td>-0.079288</td>\n",
       "      <td>0.041277</td>\n",
       "      <td>-0.076395</td>\n",
       "      <td>-0.041180</td>\n",
       "      <td>-0.096346</td>\n",
       "      <td>97.0</td>\n",
       "    </tr>\n",
       "    <tr>\n",
       "      <th>6</th>\n",
       "      <td>-0.045472</td>\n",
       "      <td>0.050680</td>\n",
       "      <td>-0.047163</td>\n",
       "      <td>-0.015999</td>\n",
       "      <td>-0.040096</td>\n",
       "      <td>-0.024800</td>\n",
       "      <td>0.000779</td>\n",
       "      <td>-0.039493</td>\n",
       "      <td>-0.062913</td>\n",
       "      <td>-0.038357</td>\n",
       "      <td>138.0</td>\n",
       "    </tr>\n",
       "    <tr>\n",
       "      <th>7</th>\n",
       "      <td>0.063504</td>\n",
       "      <td>0.050680</td>\n",
       "      <td>-0.001895</td>\n",
       "      <td>0.066630</td>\n",
       "      <td>0.090620</td>\n",
       "      <td>0.108914</td>\n",
       "      <td>0.022869</td>\n",
       "      <td>0.017703</td>\n",
       "      <td>-0.035817</td>\n",
       "      <td>0.003064</td>\n",
       "      <td>63.0</td>\n",
       "    </tr>\n",
       "    <tr>\n",
       "      <th>8</th>\n",
       "      <td>0.041708</td>\n",
       "      <td>0.050680</td>\n",
       "      <td>0.061696</td>\n",
       "      <td>-0.040099</td>\n",
       "      <td>-0.013953</td>\n",
       "      <td>0.006202</td>\n",
       "      <td>-0.028674</td>\n",
       "      <td>-0.002592</td>\n",
       "      <td>-0.014956</td>\n",
       "      <td>0.011349</td>\n",
       "      <td>110.0</td>\n",
       "    </tr>\n",
       "    <tr>\n",
       "      <th>9</th>\n",
       "      <td>-0.070900</td>\n",
       "      <td>-0.044642</td>\n",
       "      <td>0.039062</td>\n",
       "      <td>-0.033214</td>\n",
       "      <td>-0.012577</td>\n",
       "      <td>-0.034508</td>\n",
       "      <td>-0.024993</td>\n",
       "      <td>-0.002592</td>\n",
       "      <td>0.067736</td>\n",
       "      <td>-0.013504</td>\n",
       "      <td>310.0</td>\n",
       "    </tr>\n",
       "  </tbody>\n",
       "</table>\n",
       "</div>"
      ],
      "text/plain": [
       "        age       sex       bmi        bp        s1        s2        s3  \\\n",
       "0  0.038076  0.050680  0.061696  0.021872 -0.044223 -0.034821 -0.043401   \n",
       "1 -0.001882 -0.044642 -0.051474 -0.026328 -0.008449 -0.019163  0.074412   \n",
       "2  0.085299  0.050680  0.044451 -0.005671 -0.045599 -0.034194 -0.032356   \n",
       "3 -0.089063 -0.044642 -0.011595 -0.036656  0.012191  0.024991 -0.036038   \n",
       "4  0.005383 -0.044642 -0.036385  0.021872  0.003935  0.015596  0.008142   \n",
       "5 -0.092695 -0.044642 -0.040696 -0.019442 -0.068991 -0.079288  0.041277   \n",
       "6 -0.045472  0.050680 -0.047163 -0.015999 -0.040096 -0.024800  0.000779   \n",
       "7  0.063504  0.050680 -0.001895  0.066630  0.090620  0.108914  0.022869   \n",
       "8  0.041708  0.050680  0.061696 -0.040099 -0.013953  0.006202 -0.028674   \n",
       "9 -0.070900 -0.044642  0.039062 -0.033214 -0.012577 -0.034508 -0.024993   \n",
       "\n",
       "         s4        s5        s6  response  \n",
       "0 -0.002592  0.019908 -0.017646     151.0  \n",
       "1 -0.039493 -0.068330 -0.092204      75.0  \n",
       "2 -0.002592  0.002864 -0.025930     141.0  \n",
       "3  0.034309  0.022692 -0.009362     206.0  \n",
       "4 -0.002592 -0.031991 -0.046641     135.0  \n",
       "5 -0.076395 -0.041180 -0.096346      97.0  \n",
       "6 -0.039493 -0.062913 -0.038357     138.0  \n",
       "7  0.017703 -0.035817  0.003064      63.0  \n",
       "8 -0.002592 -0.014956  0.011349     110.0  \n",
       "9 -0.002592  0.067736 -0.013504     310.0  "
      ]
     },
     "execution_count": 1,
     "metadata": {},
     "output_type": "execute_result"
    }
   ],
   "source": [
    "from sklearn import datasets\n",
    "from sklearn import preprocessing\n",
    "import pandas as pd\n",
    "\n",
    "diabetes_data = datasets.load_diabetes()\n",
    "df_diabetes = pd.DataFrame(diabetes_data.data, columns = diabetes_data.feature_names)\n",
    "df_diabetes['response'] = pd.Series(diabetes_data.target)\n",
    "df_diabetes.head(10)"
   ]
  },
  {
   "cell_type": "code",
   "execution_count": 2,
   "id": "3631a548",
   "metadata": {},
   "outputs": [],
   "source": [
    "# which of the features above (age, sex, bmi, bp, s1, s2, s3, s4, s5, s6) best predicts the response\n",
    "# s1,2,3,4 are serums provided to the patient"
   ]
  },
  {
   "cell_type": "code",
   "execution_count": 45,
   "id": "a499caef",
   "metadata": {},
   "outputs": [],
   "source": [
    "# Predictors = a list containing the input features, this is to test a feature/combination of features in how well they predict\n",
    "# the response\n",
    "\n",
    "# predictors = ['age']\n",
    "# predictors = ['bmi']\n",
    "# predictors = ['bp']\n",
    "# predictors = ['sex']\n",
    "# predictors = ['s1','s2','s3','s4','s5', 's6']\n",
    "# predictors = ['age','s1','s2','s3','s4','s5','s6']\n",
    "# predictors = ['bmi','s1','s2','s3','s4','s5','s6']\n",
    "# predictors = ['bp','s1','s2','s3','s4','s5','s6']\n",
    "# predictors = ['sex','s1','s2','s3','s4','s5','s6']\n",
    "# predictors = ['age','bmi','bp','sex']\n",
    "\n",
    "predictors = ['age','bmi','bp','sex','s1','s2','s3','s4','s5','s6']"
   ]
  },
  {
   "cell_type": "code",
   "execution_count": 46,
   "id": "da505f84",
   "metadata": {},
   "outputs": [],
   "source": [
    "# response is a list containing the measure of disease progression one year after baseline measurements were taken\n",
    "\n",
    "response = ['response']"
   ]
  },
  {
   "cell_type": "code",
   "execution_count": 47,
   "id": "a7e5b6d2",
   "metadata": {},
   "outputs": [],
   "source": [
    "x = df_diabetes[predictors]\n",
    "x = preprocessing.scale(x)\n",
    "\n",
    "# scaling the data is only needed if more than 1 feature/predictor is used in the algorithm"
   ]
  },
  {
   "cell_type": "code",
   "execution_count": 48,
   "id": "6cb7b568",
   "metadata": {},
   "outputs": [],
   "source": [
    "y = df_diabetes[response]"
   ]
  },
  {
   "cell_type": "code",
   "execution_count": 49,
   "id": "aa3e2626",
   "metadata": {},
   "outputs": [],
   "source": [
    "# now importing the regression model to split the data into train and test sets\n",
    "# mean squared error tells us how different our predictions are from the ground truth outputs\n",
    "# R2 indicates how much variation of a dependent (output label)\n",
    "# variable is explained by the independent (feature used to predict) variable\n",
    "\n",
    "from sklearn.linear_model import LinearRegression\n",
    "from sklearn.model_selection import train_test_split\n",
    "import matplotlib.pyplot as plt\n",
    "from sklearn.metrics import mean_squared_error, r2_score"
   ]
  },
  {
   "cell_type": "code",
   "execution_count": 50,
   "id": "faee9be6",
   "metadata": {},
   "outputs": [],
   "source": [
    "# splitting the data into train and test sets\n",
    "x_train, x_test, y_train, y_test = train_test_split(x, y)"
   ]
  },
  {
   "cell_type": "code",
   "execution_count": 51,
   "id": "7c3d9e49",
   "metadata": {},
   "outputs": [
    {
     "data": {
      "text/plain": [
       "LinearRegression()"
      ]
     },
     "execution_count": 51,
     "metadata": {},
     "output_type": "execute_result"
    }
   ],
   "source": [
    "# training the model with the training data set\n",
    "linreg = LinearRegression()\n",
    "linreg.fit(x_train, y_train)"
   ]
  },
  {
   "cell_type": "code",
   "execution_count": 52,
   "id": "bb25d67b",
   "metadata": {},
   "outputs": [
    {
     "data": {
      "text/plain": [
       "0.3911620021737584"
      ]
     },
     "execution_count": 52,
     "metadata": {},
     "output_type": "execute_result"
    }
   ],
   "source": [
    "# this R2 score tells us how well the model predicts the output, given the current inputs (1 is highest score)\n",
    "linreg.score(x_test, y_test)"
   ]
  },
  {
   "cell_type": "markdown",
   "id": "fc256144",
   "metadata": {},
   "source": [
    "### How important are these particular features/combination of features in predicting the response?"
   ]
  },
  {
   "cell_type": "code",
   "execution_count": 53,
   "id": "115dc0e8",
   "metadata": {},
   "outputs": [],
   "source": [
    "# R2 scores:\n",
    "# age = 0.07\n",
    "# bmi = 0.45\n",
    "# bp = 0.11\n",
    "# sex = 0.001\n",
    "# s1, 2, 3, 4 and 5 combined = 0.38\n",
    "# age + s1, 2, 3, 4, 5 = 0.35\n",
    "# bmi + s1, 2, 3, 4, 5 = 0.48\n",
    "# bp + s1, 2, 3, 4, 5 = 0.38\n",
    "# sex + s1, 2, 3, 4, 5 = 0.42\n",
    "# age, bmi, bp, sex = 0.44"
   ]
  },
  {
   "cell_type": "markdown",
   "id": "f2f80928",
   "metadata": {},
   "source": [
    "### Predicting our model's output for the test data input"
   ]
  },
  {
   "cell_type": "code",
   "execution_count": 54,
   "id": "eac59c9c",
   "metadata": {},
   "outputs": [
    {
     "name": "stdout",
     "output_type": "stream",
     "text": [
      "Regression Coeffs:\n",
      " [[ -1.05225126  24.95873577  17.14066694 -13.24904884 -34.38058204\n",
      "   17.22894543   3.48852946  12.84007867  34.17653941   1.31553553]]\n"
     ]
    }
   ],
   "source": [
    "y_pred = linreg.predict(x_test)\n",
    "\n",
    "# regression coefficients\n",
    "print('Regression Coeffs:\\n', linreg.coef_)"
   ]
  },
  {
   "cell_type": "code",
   "execution_count": 55,
   "id": "3e23b86f",
   "metadata": {},
   "outputs": [
    {
     "name": "stdout",
     "output_type": "stream",
     "text": [
      "Coeff of Determination:\n",
      " 0.3911620021737584\n"
     ]
    }
   ],
   "source": [
    "# coefficient of determination (correlation coefficient squard)\n",
    "# tells us which features contributed the most to explaining the variance in the output response\n",
    "print('Coeff of Determination:\\n', r2_score(y_test, y_pred))"
   ]
  },
  {
   "cell_type": "code",
   "execution_count": 56,
   "id": "5c99e12d",
   "metadata": {},
   "outputs": [
    {
     "name": "stdout",
     "output_type": "stream",
     "text": [
      "MSE: \n",
      " 3544.84437797141\n"
     ]
    }
   ],
   "source": [
    "# the MSE (mean squared error) compares our model output predictions to the actual data response output\n",
    "print('MSE: \\n', mean_squared_error(y_test, y_pred))"
   ]
  },
  {
   "cell_type": "code",
   "execution_count": 15,
   "id": "f8700d70",
   "metadata": {},
   "outputs": [
    {
     "name": "stderr",
     "output_type": "stream",
     "text": [
      "C:\\Users\\joe_h\\anaconda3\\lib\\site-packages\\seaborn\\_decorators.py:36: FutureWarning: Pass the following variables as keyword args: x, y. From version 0.12, the only valid positional argument will be `data`, and passing other arguments without an explicit keyword will result in an error or misinterpretation.\n",
      "  warnings.warn(\n"
     ]
    },
    {
     "data": {
      "text/plain": [
       "[<matplotlib.lines.Line2D at 0x1d51046ad30>]"
      ]
     },
     "execution_count": 15,
     "metadata": {},
     "output_type": "execute_result"
    },
    {
     "data": {
      "image/png": "[encoded data removed]",
      "text/plain": [
       "<Figure size 432x288 with 1 Axes>"
      ]
     },
     "metadata": {
      "needs_background": "light"
     },
     "output_type": "display_data"
    }
   ],
   "source": [
    "# This will display how well 1 specific feature predicts the response, using R2\n",
    "\n",
    "import seaborn as sns\n",
    "sns.scatterplot(df_diabetes['bmi'], df_diabetes['response']);\n",
    "plt.plot(x_test, y_pred, color = 'purple', linewidth=4)"
   ]
  },
  {
   "cell_type": "code",
   "execution_count": 57,
   "id": "e48c3e6e",
   "metadata": {},
   "outputs": [
    {
     "name": "stdout",
     "output_type": "stream",
     "text": [
      "[-1.0522512634577021, 24.95873576732496, 17.140666935195327, -13.249048841190175, -34.38058204287571, 17.22894542570307, 3.4885294606893997, 12.840078665016454, 34.17653940771685, 1.3155355250930505]\n"
     ]
    }
   ],
   "source": [
    "# this tells us how important every feature is in predicting the response\n",
    "\n",
    "from itertools import chain\n",
    "\n",
    "feature_importance = linreg.coef_\n",
    "feature_importance = list(chain.from_iterable(feature_importance))\n",
    "print(feature_importance)"
   ]
  },
  {
   "cell_type": "code",
   "execution_count": 58,
   "id": "08e624f3",
   "metadata": {},
   "outputs": [
    {
     "data": {
      "image/png": "[encoded data removed]",
      "text/plain": [
       "<Figure size 640x480 with 1 Axes>"
      ]
     },
     "metadata": {},
     "output_type": "display_data"
    },
    {
     "name": "stdout",
     "output_type": "stream",
     "text": [
      "[-1.0522512634577021, 24.95873576732496, 17.140666935195327, -13.249048841190175, -34.38058204287571, 17.22894542570307, 3.4885294606893997, 12.840078665016454, 34.17653940771685, 1.3155355250930505]\n"
     ]
    }
   ],
   "source": [
    "# this is using the regression coefficient to measure importance, instead of using R2.\n",
    "# has been scaled in code above, as we are using all the features we need to standardise the metrics\n",
    "# so the features can be easily compared\n",
    "\n",
    "import matplotlib.pyplot as plt; plt.rcdefaults()\n",
    "import numpy as np\n",
    "\n",
    "features = ('age', 'sex', 'bmi', 'bp', 's1', 's2', 's3', 's4', 's5', 's6')\n",
    "\n",
    "y_pos = np.arange(len(features))\n",
    "\n",
    "plt.bar(y_pos, feature_importance, align = 'center', alpha=0.5)\n",
    "plt.xticks(y_pos, features)\n",
    "plt.ylabel('Regression Coefficient')\n",
    "plt.title('Feature Importance')\n",
    "plt.show()\n",
    "print(feature_importance)"
   ]
  },
  {
   "cell_type": "code",
   "execution_count": null,
   "id": "3925c47a",
   "metadata": {},
   "outputs": [],
   "source": []
  }
 ],
 "metadata": {
  "kernelspec": {
   "display_name": "Python 3",
   "language": "python",
   "name": "python3"
  },
  "language_info": {
   "codemirror_mode": {
    "name": "ipython",
    "version": 3
   },
   "file_extension": ".py",
   "mimetype": "text/x-python",
   "name": "python",
   "nbconvert_exporter": "python",
   "pygments_lexer": "ipython3",
   "version": "3.8.8"
  }
 },
 "nbformat": 4,
 "nbformat_minor": 5
}
